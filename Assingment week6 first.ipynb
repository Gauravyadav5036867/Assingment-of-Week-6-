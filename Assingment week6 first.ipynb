{
 "cells": [
  {
   "cell_type": "code",
   "execution_count": 1,
   "id": "96a9af2d-1b41-4ec1-8e98-45aa1a92345e",
   "metadata": {},
   "outputs": [],
   "source": [
    "#Question1"
   ]
  },
  {
   "cell_type": "code",
   "execution_count": null,
   "id": "3318f5d7-2c28-4225-ab7b-bc130f971f2f",
   "metadata": {},
   "outputs": [],
   "source": [
    "A database is an organized collection of structured information, or data, typically stored electronically in a computer system. A database is usually controlled by a database management system (DBMS).\n",
    "\n",
    "SQL databases are relational, and NoSQL databases are non-relational. SQL databases use structured query language (SQL) and have a predefined schema. NoSQL databases have dynamic schemas for unstructured data. SQL databases are vertically scalable, while NoSQL databases are horizontally scalable.\n"
   ]
  },
  {
   "cell_type": "code",
   "execution_count": 2,
   "id": "ca8c48ac-dd18-4512-9594-93cdf23a6f46",
   "metadata": {},
   "outputs": [],
   "source": [
    "#Question2"
   ]
  },
  {
   "cell_type": "code",
   "execution_count": null,
   "id": "6fd60340-6542-4dbc-882f-a8d75db04771",
   "metadata": {},
   "outputs": [],
   "source": [
    "A data definition language (DDL) is a computer language used to create and modify the structure of database objects in a database. These database objects include views, schemas, tables, indexes, etc.\n",
    "\n",
    "1) CREATE TABLE\n",
    "The CREATE TABLE command creates a new table in the database.\n",
    "CREATE TABLE employees (\n",
    "    employee_id INT PRIMARY KEY,\n",
    "    name VARCHAR(50),\n",
    "    salary DECIMAL(10, 2)\n",
    ");\n",
    "\n",
    "2) DROP TABLE\n",
    "The DROP TABLE command deletes a table in the database.\n",
    "DROP TABLE employees;\n",
    "\n",
    "3) ALTER TABLE\n",
    "The ALTER TABLE command adds, deletes, or modifies columns in a table.\n",
    "\n",
    "The ALTER TABLE command also adds and deletes various constraints in a table.\n",
    "ALTER TABLE employees\n",
    "ADD COLUMN email VARCHAR(100);\n",
    "\n",
    "4)  TRUNCATE TABLE\n",
    "The TRUNCATE TABLE command deletes the data inside a table, but not the table itself.\n",
    "TRUNCATE TABLE employees;\n",
    "\n",
    "\n"
   ]
  },
  {
   "cell_type": "code",
   "execution_count": 3,
   "id": "e1220d04-991b-48f8-a955-164b22598adb",
   "metadata": {},
   "outputs": [],
   "source": [
    "#Question3"
   ]
  },
  {
   "cell_type": "code",
   "execution_count": null,
   "id": "82b7ebf4-e29a-4e49-aa76-3b7c7d47f508",
   "metadata": {},
   "outputs": [],
   "source": [
    "Data Manipulation Language, or DML, is used to insert, update, and delete records among other database-related operations.\n",
    "\n",
    "The SQL INSERT, UPDATE, and DELETE commands enable SQL users to manipulate and modify data:\n",
    "1) The INSERT command is used to add new rows (records) into a database table.\n",
    "INSERT INTO employees (employee_id, name, salary, email)\n",
    "VALUES (101, 'John Doe', 50000.00, 'john.doe@example.com');\n",
    "\n",
    "2) The DELETE statement removes a row or combination of rows from a table.\n",
    "DELETE FROM employees\n",
    "WHERE employee_id = 101;\n",
    "\n",
    "3) The UPDATE stUPDATE employees\n",
    "SET salary = 55000.00\n",
    "WHERE employee_id = 101;\n",
    "atement enables users to update a row or group of rows in a table.\n"
   ]
  },
  {
   "cell_type": "code",
   "execution_count": null,
   "id": "2405346c-3a79-4c9b-83d2-0df7a05bf41e",
   "metadata": {},
   "outputs": [],
   "source": [
    "#Question4 "
   ]
  },
  {
   "cell_type": "code",
   "execution_count": null,
   "id": "e173564f-aefe-4c83-8bc7-7c51f0b486a6",
   "metadata": {},
   "outputs": [],
   "source": [
    "DQL statements are used for performing queries on the data within schema objects. The purpose of the DQL Command is to get some schema relation based on the query passed to it\n",
    "SELECT is one of the fundamental SQL (Structured Query Language) commands used to retrieve data from a database. It allows you to query a database table and retrieve specific rows and columns of data based on various conditions.\n",
    "SELECT column1, column2, ...\n",
    "FROM table_name\n",
    "WHERE condition;\n"
   ]
  },
  {
   "cell_type": "code",
   "execution_count": null,
   "id": "500fcbfb-f385-45ba-9b46-0c799de5d5c4",
   "metadata": {},
   "outputs": [],
   "source": [
    "#Question5"
   ]
  },
  {
   "cell_type": "code",
   "execution_count": null,
   "id": "bfb09fc8-9373-4a64-bdb4-a9dce5ad6a6d",
   "metadata": {},
   "outputs": [],
   "source": [
    "A primary key is a unique identifier for each record in a table. A foreign key establishes a relationship between tables by referencing the primary key of another table."
   ]
  },
  {
   "cell_type": "code",
   "execution_count": null,
   "id": "4d7eaaa4-f43e-4de8-b838-c70c02551589",
   "metadata": {},
   "outputs": [],
   "source": [
    "#Question6"
   ]
  },
  {
   "cell_type": "code",
   "execution_count": null,
   "id": "dd3d62e2-8d94-4864-8722-6cfa4ed2599e",
   "metadata": {},
   "outputs": [],
   "source": [
    "import mysql.connector\n",
    "\n",
    "db_connection = mysql.connector.connect(\n",
    "    host=\"your_host\",\n",
    "    user=\"your_username\",\n",
    "    password=\"your_password\",\n",
    "    database=\"your_database\"\n",
    ")\n",
    "\n",
    "cursor = db_connection.cursor()\n",
    "\n",
    "cursor.execute(\"SELECT * FROM your_table\")\n",
    "\n",
    "results = cursor.fetchall()\n",
    "\n",
    "for row in results:\n",
    "    print(row)\n",
    "\n",
    "insert_query = \"INSERT INTO your_table (column1, column2) VALUES (%s, %s)\"\n",
    "values = (\"value1\", \"value2\")\n",
    "\n",
    "cursor.execute(insert_query, values)\n",
    "\n",
    "db_connection.commit()\n",
    "\n",
    "update_query = \"UPDATE your_table SET column1 = %s WHERE column2 = %s\"\n",
    "new_value = \"new_value\"\n",
    "old_value = \"value2\"\n",
    "\n",
    "cursor.execute(update_query, (new_value, old_value))\n",
    "\n",
    "db_connection.commit()\n",
    "\n",
    "delete_query = \"DELETE FROM your_table WHERE column1 = %s\"\n",
    "value_to_delete = \"value1\"\n",
    "\n",
    "cursor.execute(delete_query, (value_to_delete,))\n",
    "\n",
    "db_connection.commit()\n",
    "\n",
    "cursor.close()\n",
    "db_connection.close()\n",
    "\n",
    "\n",
    "\n",
    "\n",
    "## The cursor() method creates a cursor object, which is used to interact with the database. \n",
    "##  The execute() method is used to execute SQL queries or commands. You pass the SQL query as a string to this method, and it sends the query to the database for execution.  \n",
    "    "
   ]
  },
  {
   "cell_type": "code",
   "execution_count": null,
   "id": "7a97c3b7-bdd7-41b1-9958-bd7ca4214225",
   "metadata": {},
   "outputs": [],
   "source": [
    "#Question7"
   ]
  },
  {
   "cell_type": "code",
   "execution_count": null,
   "id": "a8c95b27-d7e0-4071-a6dc-0c1f0d717bd0",
   "metadata": {},
   "outputs": [],
   "source": [
    "The order of SQL Clauses in SQL query\n",
    "FROM/JOIN. The FROM and/or JOIN clauses are executed first to determine the data of interest.\n",
    "WHERE. The WHERE clause is executed to filter out records that do not meet the constraints.\n",
    "GROUP BY\n",
    "HAVING\n",
    "SELECT\n",
    "ORDER BY\n",
    "LIMIT/OFFSET"
   ]
  }
 ],
 "metadata": {
  "kernelspec": {
   "display_name": "Python 3 (ipykernel)",
   "language": "python",
   "name": "python3"
  },
  "language_info": {
   "codemirror_mode": {
    "name": "ipython",
    "version": 3
   },
   "file_extension": ".py",
   "mimetype": "text/x-python",
   "name": "python",
   "nbconvert_exporter": "python",
   "pygments_lexer": "ipython3",
   "version": "3.10.8"
  }
 },
 "nbformat": 4,
 "nbformat_minor": 5
}
